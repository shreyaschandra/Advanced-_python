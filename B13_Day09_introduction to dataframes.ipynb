{
 "cells": [
  {
   "cell_type": "code",
   "execution_count": null,
   "metadata": {},
   "outputs": [],
   "source": [
    "# Introduction to DataFrames\n",
    "DataFrames is capable of handling  2 dimensional data"
   ]
  },
  {
   "cell_type": "code",
   "execution_count": 1,
   "metadata": {},
   "outputs": [],
   "source": [
    "import numpy as np\n",
    "import pandas as pd"
   ]
  },
  {
   "cell_type": "code",
   "execution_count": null,
   "metadata": {},
   "outputs": [],
   "source": [
    "#Creation of data frames\n",
    "A data frame can be created by using the following,\n",
    "    list\n",
    "    Dist\n",
    "    Series\n",
    "    Numpy ndarrays\n",
    "    another dataframes"
   ]
  },
  {
   "cell_type": "code",
   "execution_count": 2,
   "metadata": {},
   "outputs": [
    {
     "name": "stdout",
     "output_type": "stream",
     "text": [
      "Empty DataFrame\n",
      "Columns: []\n",
      "Index: []\n"
     ]
    }
   ],
   "source": [
    "#creating a empty dataframe\n",
    "\n",
    "df=pd.DataFrame()\n",
    "print(df)"
   ]
  },
  {
   "cell_type": "code",
   "execution_count": 5,
   "metadata": {},
   "outputs": [
    {
     "name": "stdout",
     "output_type": "stream",
     "text": [
      "     0\n",
      "0    a\n",
      "1  200\n",
      "2    3\n",
      "3    f\n",
      "4    5\n"
     ]
    }
   ],
   "source": [
    "#creating DF from a list\n",
    "data=['a',200,3,'f',5]\n",
    "df=pd.DataFrame(data)\n",
    "print(df)                         "
   ]
  },
  {
   "cell_type": "code",
   "execution_count": 6,
   "metadata": {},
   "outputs": [
    {
     "name": "stdout",
     "output_type": "stream",
     "text": [
      "      Name  Marks\n",
      "0  shreyas     10\n",
      "1  chandra      9\n",
      "2   sindhu      8\n",
      "3    sudha      7\n"
     ]
    }
   ],
   "source": [
    "#user defined column\n",
    "\n",
    "data=[['shreyas',10],['chandra',9],['sindhu',8],['sudha',7]]\n",
    "\n",
    "df=pd.DataFrame(data,columns=['Name','Marks'])\n",
    "\n",
    "print(df)"
   ]
  },
  {
   "cell_type": "code",
   "execution_count": 7,
   "metadata": {},
   "outputs": [
    {
     "name": "stdout",
     "output_type": "stream",
     "text": [
      "      Name  Marks\n",
      "0  shreyas   10.0\n",
      "1  chandra    9.0\n",
      "2   sindhu    8.0\n",
      "3    sudha    7.0\n"
     ]
    }
   ],
   "source": [
    "#float output\n",
    "data=[['shreyas',10],['chandra',9],['sindhu',8],['sudha',7]]\n",
    "\n",
    "df=pd.DataFrame(data,columns=['Name','Marks'],dtype=float)\n",
    "\n",
    "print(df)"
   ]
  },
  {
   "cell_type": "code",
   "execution_count": 8,
   "metadata": {},
   "outputs": [
    {
     "name": "stdout",
     "output_type": "stream",
     "text": [
      "          Name  Marks\n",
      "Rank1  shreyas     10\n",
      "Rank2  chandra      9\n",
      "Rank3   sindhu      8\n",
      "Rank4    sudha      7\n"
     ]
    }
   ],
   "source": [
    "# adding user defined index\n",
    "\n",
    "data=[['shreyas',10],['chandra',9],['sindhu',8],['sudha',7]]\n",
    "\n",
    "df=pd.DataFrame(data,index=['Rank1','Rank2','Rank3','Rank4'],columns=['Name','Marks'])\n",
    "\n",
    "print(df)"
   ]
  },
  {
   "cell_type": "code",
   "execution_count": 9,
   "metadata": {},
   "outputs": [
    {
     "name": "stdout",
     "output_type": "stream",
     "text": [
      "     Names  Age\n",
      "0  shreyas   26\n",
      "1  chandra   52\n",
      "2    sudha   50\n",
      "3   sindhu   24\n"
     ]
    }
   ],
   "source": [
    "#Creating dataframes using dictonary\n",
    "\n",
    "data={'Names':['shreyas','chandra','sudha','sindhu'],\n",
    "     'Age':[26,52,50,24]}\n",
    "df=pd.DataFrame(data)\n",
    "print(df)"
   ]
  },
  {
   "cell_type": "code",
   "execution_count": null,
   "metadata": {},
   "outputs": [],
   "source": []
  },
  {
   "cell_type": "code",
   "execution_count": null,
   "metadata": {},
   "outputs": [],
   "source": []
  },
  {
   "cell_type": "code",
   "execution_count": null,
   "metadata": {},
   "outputs": [],
   "source": []
  }
 ],
 "metadata": {
  "kernelspec": {
   "display_name": "Python 3",
   "language": "python",
   "name": "python3"
  },
  "language_info": {
   "codemirror_mode": {
    "name": "ipython",
    "version": 3
   },
   "file_extension": ".py",
   "mimetype": "text/x-python",
   "name": "python",
   "nbconvert_exporter": "python",
   "pygments_lexer": "ipython3",
   "version": "3.7.4"
  }
 },
 "nbformat": 4,
 "nbformat_minor": 2
}
